{
 "cells": [
  {
   "cell_type": "code",
   "execution_count": 1,
   "id": "fbd0054f",
   "metadata": {},
   "outputs": [],
   "source": [
    "import pandas as pd\n",
    "import numpy as np\n",
    "from matplotlib import pyplot as plt"
   ]
  },
  {
   "cell_type": "code",
   "execution_count": null,
   "id": "27cd5d32",
   "metadata": {},
   "outputs": [],
   "source": [
    "weather=['sunny','sunny','overcast','rainy','rainy','rainy','overcast','sunny','sunny','rainy','sunny','overcast','overcast','rainy']\n",
    "temp=['hot','hot','hot','mild','cool','cool','cool','mild','cool','mild','mild','mild','hot','mild']\n",
    "play=['no','no','yes','yes','yes','no','yes','no','yes','yes','yes','yes','yes','no']"
   ]
  },
  {
   "cell_type": "code",
   "execution_count": null,
   "id": "2060b667",
   "metadata": {},
   "outputs": [],
   "source": [
    "from sklearn import preprocessing\n",
    "le = preprocessing.LabelEncoder()\n",
    "weather_encoded=le.fit_transform(weather)\n",
    "temp_encoded=le.fit_transform(temp)\n",
    "play_encoded=le.fit_transform(play)\n",
    "weather_encoded,temp_encoded,play_encoded"
   ]
  },
  {
   "cell_type": "code",
   "execution_count": null,
   "id": "1bafc673",
   "metadata": {},
   "outputs": [],
   "source": [
    "weather_encoded=pd.Series(weather_encoded,name='weather')\n",
    "temp_encoded=pd.Series(temp_encoded,name='temp')\n",
    "play_encoded=pd.Series(play_encoded,name='play')"
   ]
  },
  {
   "cell_type": "code",
   "execution_count": null,
   "id": "8a87f81b",
   "metadata": {},
   "outputs": [],
   "source": [
    "feature=list(zip(weather_encoded,temp_encoded))\n",
    "label=play_encoded"
   ]
  },
  {
   "cell_type": "code",
   "execution_count": null,
   "id": "a4b4e860",
   "metadata": {},
   "outputs": [],
   "source": [
    "from sklearn.neighbors import KNeighborsClassifier\n",
    "knn = KNeighborsClassifier(n_neighbors=3)\n",
    "knn.fit(feature,label)"
   ]
  },
  {
   "cell_type": "code",
   "execution_count": null,
   "id": "80244c9b",
   "metadata": {},
   "outputs": [],
   "source": [
    "y_pred=[[0,2],[1,2],[2,1],[1,0],[2,2],[1,0]]\n",
    "type(y_pred)"
   ]
  },
  {
   "cell_type": "code",
   "execution_count": null,
   "id": "3e1f8b42",
   "metadata": {},
   "outputs": [],
   "source": [
    "le.inverse_transform(knn.predict(y_pred))"
   ]
  },
  {
   "cell_type": "code",
   "execution_count": null,
   "id": "c44fd0b5",
   "metadata": {},
   "outputs": [],
   "source": []
  },
  {
   "cell_type": "code",
   "execution_count": null,
   "id": "830cdfb7",
   "metadata": {},
   "outputs": [],
   "source": []
  },
  {
   "cell_type": "code",
   "execution_count": null,
   "id": "5a3a0949",
   "metadata": {},
   "outputs": [],
   "source": []
  },
  {
   "cell_type": "code",
   "execution_count": null,
   "id": "60327627",
   "metadata": {},
   "outputs": [],
   "source": []
  },
  {
   "cell_type": "code",
   "execution_count": null,
   "id": "ec372d9d",
   "metadata": {},
   "outputs": [],
   "source": []
  },
  {
   "cell_type": "code",
   "execution_count": null,
   "id": "f072ba1d",
   "metadata": {},
   "outputs": [],
   "source": []
  },
  {
   "cell_type": "code",
   "execution_count": null,
   "id": "540027db",
   "metadata": {},
   "outputs": [],
   "source": []
  },
  {
   "cell_type": "code",
   "execution_count": 2,
   "id": "b9c481ef",
   "metadata": {},
   "outputs": [],
   "source": [
    "from sklearn import datasets"
   ]
  },
  {
   "cell_type": "code",
   "execution_count": 3,
   "id": "ec948c03",
   "metadata": {},
   "outputs": [],
   "source": [
    "wine=datasets.load_wine()\n",
    "# data=pd.read_csv('data.csv')\n",
    "# data"
   ]
  },
  {
   "cell_type": "code",
   "execution_count": 9,
   "id": "3439ea04",
   "metadata": {},
   "outputs": [
    {
     "name": "stdout",
     "output_type": "stream",
     "text": [
      "Accuracy: for 70.0 % training set and 3 neighbour 0.72\n",
      "Accuracy: for 70.0 % training set and 5 neighbour 0.696\n",
      "Accuracy: for 70.0 % training set and 7 neighbour 0.648\n",
      "Accuracy: for 70.0 % training set and 9 neighbour 0.744\n",
      "Accuracy for training set 70.0 %  0.702\n",
      "Accuracy: for 60.0 % training set and 3 neighbour 0.7102803738317757\n",
      "Accuracy: for 60.0 % training set and 5 neighbour 0.6542056074766355\n",
      "Accuracy: for 60.0 % training set and 7 neighbour 0.7009345794392523\n",
      "Accuracy: for 60.0 % training set and 9 neighbour 0.719626168224299\n",
      "Accuracy for training set 60.0 %  0.6962616822429906\n",
      "Accuracy: for 50.0 % training set and 3 neighbour 0.6741573033707865\n",
      "Accuracy: for 50.0 % training set and 5 neighbour 0.6741573033707865\n",
      "Accuracy: for 50.0 % training set and 7 neighbour 0.7303370786516854\n",
      "Accuracy: for 50.0 % training set and 9 neighbour 0.7415730337078652\n",
      "Accuracy for training set 50.0 %  0.7050561797752809\n",
      "Accuracy: for 40.0 % training set and 3 neighbour 0.6805555555555556\n",
      "Accuracy: for 40.0 % training set and 5 neighbour 0.6944444444444444\n",
      "Accuracy: for 40.0 % training set and 7 neighbour 0.7083333333333334\n",
      "Accuracy: for 40.0 % training set and 9 neighbour 0.7083333333333334\n",
      "Accuracy for training set 40.0 %  0.6979166666666667\n",
      "Accuracy: for 30.0 % training set and 3 neighbour 0.7407407407407407\n",
      "Accuracy: for 30.0 % training set and 5 neighbour 0.7037037037037037\n",
      "Accuracy: for 30.0 % training set and 7 neighbour 0.6296296296296297\n",
      "Accuracy: for 30.0 % training set and 9 neighbour 0.7407407407407407\n",
      "Accuracy for training set 30.0 %  0.7037037037037037\n"
     ]
    }
   ],
   "source": [
    "from sklearn.neighbors import KNeighborsClassifier\n",
    "from sklearn.model_selection import train_test_split\n",
    "from sklearn import metrics\n",
    "\n",
    "train=[0.7,0.6,0.5,0.4,0.3]\n",
    "k=[3,5,7,9]\n",
    "accuracy=[]\n",
    "avg_accuracy=[]\n",
    "for i in train:\n",
    "    avg=0\n",
    "    for j in k:\n",
    "        x_train, x_test, y_train, y_test = train_test_split(wine.data,wine.target, test_size = i)\n",
    "        knn = KNeighborsClassifier(n_neighbors=j)\n",
    "        knn.fit(x_train,y_train)\n",
    "        y_pred=knn.predict(x_test)\n",
    "        print(\"Accuracy: for\",i*100,\"% training set and\",j,\"neighbour\",metrics.accuracy_score(y_test,y_pred))\n",
    "#         accuracy.append(metrics.accuracy_score(y_test,y_pred))\n",
    "        avg+=metrics.accuracy_score(y_test,y_pred)\n",
    "    print(\"Accuracy for training set\",i*100,\"% \",avg/4)\n",
    "    avg_accuracy.append(avg/4)"
   ]
  },
  {
   "cell_type": "code",
   "execution_count": 5,
   "id": "c963cfc0",
   "metadata": {},
   "outputs": [
    {
     "data": {
      "text/plain": [
       "([0.744,\n",
       "  0.664,\n",
       "  0.696,\n",
       "  0.696,\n",
       "  0.6448598130841121,\n",
       "  0.7009345794392523,\n",
       "  0.7102803738317757,\n",
       "  0.6728971962616822,\n",
       "  0.6853932584269663,\n",
       "  0.6741573033707865,\n",
       "  0.6966292134831461,\n",
       "  0.7191011235955056,\n",
       "  0.7222222222222222,\n",
       "  0.7222222222222222,\n",
       "  0.6944444444444444,\n",
       "  0.7916666666666666,\n",
       "  0.7592592592592593,\n",
       "  0.6666666666666666,\n",
       "  0.7407407407407407,\n",
       "  0.7777777777777778],\n",
       " [0.7,\n",
       "  0.6822429906542056,\n",
       "  0.6938202247191011,\n",
       "  0.7326388888888888,\n",
       "  0.7361111111111112])"
      ]
     },
     "execution_count": 5,
     "metadata": {},
     "output_type": "execute_result"
    }
   ],
   "source": [
    "accuracy,avg_accuracy"
   ]
  },
  {
   "cell_type": "code",
   "execution_count": 6,
   "id": "2918ddd3",
   "metadata": {},
   "outputs": [
    {
     "name": "stdout",
     "output_type": "stream",
     "text": [
      "<class 'numpy.ndarray'>\n"
     ]
    }
   ],
   "source": [
    "y_pred=knn.predict(x_test)\n",
    "print(type(y_pred))"
   ]
  },
  {
   "cell_type": "code",
   "execution_count": 7,
   "id": "5c93d2d1",
   "metadata": {},
   "outputs": [
    {
     "name": "stdout",
     "output_type": "stream",
     "text": [
      "Accuracy: 0.7777777777777778\n"
     ]
    }
   ],
   "source": [
    "from sklearn import metrics\n",
    "print(\"Accuracy:\",metrics.accuracy_score(y_test,y_pred))"
   ]
  },
  {
   "cell_type": "code",
   "execution_count": null,
   "id": "f09f2419",
   "metadata": {},
   "outputs": [],
   "source": []
  }
 ],
 "metadata": {
  "kernelspec": {
   "display_name": "Python 3 (ipykernel)",
   "language": "python",
   "name": "python3"
  },
  "language_info": {
   "codemirror_mode": {
    "name": "ipython",
    "version": 3
   },
   "file_extension": ".py",
   "mimetype": "text/x-python",
   "name": "python",
   "nbconvert_exporter": "python",
   "pygments_lexer": "ipython3",
   "version": "3.11.2"
  }
 },
 "nbformat": 4,
 "nbformat_minor": 5
}
