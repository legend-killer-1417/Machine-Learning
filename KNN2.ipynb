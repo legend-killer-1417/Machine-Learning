{
 "cells": [
  {
   "cell_type": "code",
   "execution_count": 1,
   "id": "a6d3b43e",
   "metadata": {},
   "outputs": [],
   "source": [
    "import pandas as pd\n",
    "import numpy as np\n",
    "from sklearn import datasets\n",
    "from sklearn.model_selection import train_test_split\n",
    "from sklearn import metrics\n",
    "from sklearn import preprocessing"
   ]
  },
  {
   "cell_type": "code",
   "execution_count": 2,
   "id": "4ec614ca",
   "metadata": {},
   "outputs": [],
   "source": [
    "iris=datasets.load_iris()\n",
    "x_train, x_test, y_train, y_test = train_test_split(iris.data, iris.target, test_size=0.3, random_state=45)"
   ]
  },
  {
   "cell_type": "code",
   "execution_count": 9,
   "id": "0b3e9131",
   "metadata": {},
   "outputs": [
    {
     "name": "stdout",
     "output_type": "stream",
     "text": [
      "['setosa' 'versicolor' 'virginica'] 45\n"
     ]
    }
   ],
   "source": [
    "from sklearn.neighbors import KNeighborsClassifier\n",
    "knn = KNeighborsClassifier(n_neighbors=25)\n",
    "knn.fit(x_train,y_train)\n",
    "y_pred=knn.predict(x_test)\n",
    "# sk01pf2930\n",
    "print(iris.target_names,len(y_test))"
   ]
  },
  {
   "cell_type": "code",
   "execution_count": 4,
   "id": "9fdad07f",
   "metadata": {},
   "outputs": [
    {
     "name": "stdout",
     "output_type": "stream",
     "text": [
      "Accuracy: 0.9333333333333333\n",
      "Precision: 0.9333333333333333\n",
      "Recall: 0.9333333333333333\n"
     ]
    }
   ],
   "source": [
    "print(\"Accuracy:\",metrics.accuracy_score(y_test,y_pred))\n",
    "print(\"Precision:\",metrics.precision_score(y_test, y_pred,average='micro'))\n",
    "print(\"Recall:\",metrics.recall_score(y_test, y_pred,average='micro'))"
   ]
  },
  {
   "cell_type": "code",
   "execution_count": 5,
   "id": "12892c8a",
   "metadata": {},
   "outputs": [
    {
     "name": "stdout",
     "output_type": "stream",
     "text": [
      "Correct Prediction\t\tActual= setosa Predicted= setosa\n",
      "Correct Prediction\t\tActual= setosa Predicted= setosa\n",
      "Correct Prediction\t\tActual= virginica Predicted= virginica\n",
      "Correct Prediction\t\tActual= setosa Predicted= setosa\n",
      "Correct Prediction\t\tActual= setosa Predicted= setosa\n",
      "Correct Prediction\t\tActual= setosa Predicted= setosa\n",
      "Correct Prediction\t\tActual= setosa Predicted= setosa\n",
      "Correct Prediction\t\tActual= virginica Predicted= virginica\n",
      "\tWrong Prediction\t\tActual= virginica Predicted= setosa\n",
      "Correct Prediction\t\tActual= virginica Predicted= virginica\n",
      "Correct Prediction\t\tActual= setosa Predicted= setosa\n",
      "Correct Prediction\t\tActual= virginica Predicted= virginica\n",
      "Correct Prediction\t\tActual= virginica Predicted= virginica\n",
      "Correct Prediction\t\tActual= virginica Predicted= virginica\n",
      "\tWrong Prediction\t\tActual= virginica Predicted= setosa\n",
      "Correct Prediction\t\tActual= setosa Predicted= setosa\n",
      "Correct Prediction\t\tActual= virginica Predicted= virginica\n",
      "Correct Prediction\t\tActual= virginica Predicted= virginica\n",
      "Correct Prediction\t\tActual= setosa Predicted= setosa\n",
      "Correct Prediction\t\tActual= setosa Predicted= setosa\n",
      "Correct Prediction\t\tActual= setosa Predicted= setosa\n",
      "Correct Prediction\t\tActual= setosa Predicted= setosa\n",
      "Correct Prediction\t\tActual= virginica Predicted= virginica\n",
      "Correct Prediction\t\tActual= setosa Predicted= setosa\n",
      "Correct Prediction\t\tActual= setosa Predicted= setosa\n",
      "Correct Prediction\t\tActual= virginica Predicted= virginica\n",
      "Correct Prediction\t\tActual= setosa Predicted= setosa\n",
      "Correct Prediction\t\tActual= setosa Predicted= setosa\n",
      "Correct Prediction\t\tActual= setosa Predicted= setosa\n",
      "Correct Prediction\t\tActual= setosa Predicted= setosa\n",
      "Correct Prediction\t\tActual= setosa Predicted= setosa\n",
      "Correct Prediction\t\tActual= setosa Predicted= setosa\n",
      "\tWrong Prediction\t\tActual= virginica Predicted= setosa\n",
      "Correct Prediction\t\tActual= virginica Predicted= virginica\n",
      "Correct Prediction\t\tActual= setosa Predicted= setosa\n",
      "Correct Prediction\t\tActual= virginica Predicted= virginica\n",
      "Correct Prediction\t\tActual= setosa Predicted= setosa\n",
      "Correct Prediction\t\tActual= setosa Predicted= setosa\n",
      "Correct Prediction\t\tActual= setosa Predicted= setosa\n",
      "Correct Prediction\t\tActual= setosa Predicted= setosa\n",
      "Correct Prediction\t\tActual= setosa Predicted= setosa\n",
      "Correct Prediction\t\tActual= setosa Predicted= setosa\n",
      "Correct Prediction\t\tActual= setosa Predicted= setosa\n",
      "Correct Prediction\t\tActual= setosa Predicted= setosa\n",
      "Correct Prediction\t\tActual= setosa Predicted= setosa\n"
     ]
    }
   ],
   "source": [
    "for item1,item2 in zip(y_test,y_pred):    \n",
    "    if(y_test[item1]!=y_pred[item2]):\n",
    "        print(\"\\tWrong Prediction\\t\\tActual=\",iris.target_names[y_test[item1]],\"Predicted=\",iris.target_names[y_pred[item2]])\n",
    "    else:\n",
    "        print(\"Correct Prediction\\t\\tActual=\",iris.target_names[y_test[item1]],\"Predicted=\",iris.target_names[y_pred[item2]])"
   ]
  },
  {
   "cell_type": "code",
   "execution_count": null,
   "id": "6d7d48c4",
   "metadata": {},
   "outputs": [],
   "source": []
  }
 ],
 "metadata": {
  "kernelspec": {
   "display_name": "Python 3 (ipykernel)",
   "language": "python",
   "name": "python3"
  },
  "language_info": {
   "codemirror_mode": {
    "name": "ipython",
    "version": 3
   },
   "file_extension": ".py",
   "mimetype": "text/x-python",
   "name": "python",
   "nbconvert_exporter": "python",
   "pygments_lexer": "ipython3",
   "version": "3.11.2"
  }
 },
 "nbformat": 4,
 "nbformat_minor": 5
}
